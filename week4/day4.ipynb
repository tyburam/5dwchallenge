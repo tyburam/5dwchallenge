{
 "cells": [
  {
   "cell_type": "code",
   "execution_count": 22,
   "metadata": {},
   "outputs": [],
   "source": [
    "import pandas as pd\n",
    "\n",
    "from gensim.utils import simple_preprocess\n",
    "from gensim.models import Word2Vec\n",
    "from gensim.models.phrases import Phrases, Phraser\n",
    "\n",
    "from ast import literal_eval"
   ]
  },
  {
   "cell_type": "code",
   "execution_count": 2,
   "metadata": {},
   "outputs": [],
   "source": [
    "df = pd.read_csv('data/job_ofer.csv')"
   ]
  },
  {
   "cell_type": "code",
   "execution_count": 3,
   "metadata": {},
   "outputs": [
    {
     "data": {
      "text/plain": [
       "(36109, 8)"
      ]
     },
     "execution_count": 3,
     "metadata": {},
     "output_type": "execute_result"
    }
   ],
   "source": [
    "df.shape"
   ]
  },
  {
   "cell_type": "code",
   "execution_count": 4,
   "metadata": {},
   "outputs": [
    {
     "data": {
      "text/html": [
       "<div>\n",
       "<style scoped>\n",
       "    .dataframe tbody tr th:only-of-type {\n",
       "        vertical-align: middle;\n",
       "    }\n",
       "\n",
       "    .dataframe tbody tr th {\n",
       "        vertical-align: top;\n",
       "    }\n",
       "\n",
       "    .dataframe thead th {\n",
       "        text-align: right;\n",
       "    }\n",
       "</style>\n",
       "<table border=\"1\" class=\"dataframe\">\n",
       "  <thead>\n",
       "    <tr style=\"text-align: right;\">\n",
       "      <th></th>\n",
       "      <th>title</th>\n",
       "      <th>company_name</th>\n",
       "      <th>address</th>\n",
       "      <th>description</th>\n",
       "      <th>seniority_level</th>\n",
       "      <th>employment_type</th>\n",
       "      <th>job_function</th>\n",
       "      <th>industries</th>\n",
       "    </tr>\n",
       "  </thead>\n",
       "  <tbody>\n",
       "    <tr>\n",
       "      <th>0</th>\n",
       "      <td>Machine Learning Engineer</td>\n",
       "      <td>Intellipro Group Inc</td>\n",
       "      <td>Palo Alto, CA, US</td>\n",
       "      <td>['About The Company', \"W*** is reshaping the f...</td>\n",
       "      <td>Entry level</td>\n",
       "      <td>Full-time</td>\n",
       "      <td>Engineering</td>\n",
       "      <td>Information Technology and Services</td>\n",
       "    </tr>\n",
       "    <tr>\n",
       "      <th>1</th>\n",
       "      <td>Deep Learning Applied Researcher - Chicago</td>\n",
       "      <td>Ethosia</td>\n",
       "      <td>Chicago, IL, US</td>\n",
       "      <td>['תיאור המשרה', 'Deep learning for Computer Vi...</td>\n",
       "      <td>Associate</td>\n",
       "      <td>Full-time</td>\n",
       "      <td>Other</td>\n",
       "      <td>Information Technology and Services</td>\n",
       "    </tr>\n",
       "    <tr>\n",
       "      <th>2</th>\n",
       "      <td>Machine Learning Engineer</td>\n",
       "      <td>Motorola Solutions</td>\n",
       "      <td>Chicago, IL, US</td>\n",
       "      <td>['Company Overview', 'At Motorola Solutions, w...</td>\n",
       "      <td>Entry level</td>\n",
       "      <td>Full-time</td>\n",
       "      <td>Engineering</td>\n",
       "      <td>Information Technology and Services</td>\n",
       "    </tr>\n",
       "    <tr>\n",
       "      <th>3</th>\n",
       "      <td>Machine Learning / Data Scientist</td>\n",
       "      <td>Proprius LLC</td>\n",
       "      <td>San Francisco, CA, US</td>\n",
       "      <td>['Our client is a digital invention agency foc...</td>\n",
       "      <td>Entry level</td>\n",
       "      <td>Full-time</td>\n",
       "      <td>Engineering</td>\n",
       "      <td>Information Technology and Services</td>\n",
       "    </tr>\n",
       "    <tr>\n",
       "      <th>4</th>\n",
       "      <td>Cloud Architect</td>\n",
       "      <td>TCS</td>\n",
       "      <td>Framingham, Massachusetts, United States</td>\n",
       "      <td>['Technical/Functional Skills', ' ', 'Good to ...</td>\n",
       "      <td>Mid-Senior level</td>\n",
       "      <td>Full-time</td>\n",
       "      <td>Engineering</td>\n",
       "      <td>Information Technology and Services</td>\n",
       "    </tr>\n",
       "  </tbody>\n",
       "</table>\n",
       "</div>"
      ],
      "text/plain": [
       "                                        title          company_name  \\\n",
       "0                   Machine Learning Engineer  Intellipro Group Inc   \n",
       "1  Deep Learning Applied Researcher - Chicago               Ethosia   \n",
       "2                   Machine Learning Engineer    Motorola Solutions   \n",
       "3           Machine Learning / Data Scientist          Proprius LLC   \n",
       "4                             Cloud Architect                   TCS   \n",
       "\n",
       "                                    address  \\\n",
       "0                         Palo Alto, CA, US   \n",
       "1                           Chicago, IL, US   \n",
       "2                           Chicago, IL, US   \n",
       "3                     San Francisco, CA, US   \n",
       "4  Framingham, Massachusetts, United States   \n",
       "\n",
       "                                         description   seniority_level  \\\n",
       "0  ['About The Company', \"W*** is reshaping the f...       Entry level   \n",
       "1  ['תיאור המשרה', 'Deep learning for Computer Vi...         Associate   \n",
       "2  ['Company Overview', 'At Motorola Solutions, w...       Entry level   \n",
       "3  ['Our client is a digital invention agency foc...       Entry level   \n",
       "4  ['Technical/Functional Skills', ' ', 'Good to ...  Mid-Senior level   \n",
       "\n",
       "  employment_type job_function                           industries  \n",
       "0       Full-time  Engineering  Information Technology and Services  \n",
       "1       Full-time        Other  Information Technology and Services  \n",
       "2       Full-time  Engineering  Information Technology and Services  \n",
       "3       Full-time  Engineering  Information Technology and Services  \n",
       "4       Full-time  Engineering  Information Technology and Services  "
      ]
     },
     "execution_count": 4,
     "metadata": {},
     "output_type": "execute_result"
    }
   ],
   "source": [
    "df.head()"
   ]
  },
  {
   "cell_type": "markdown",
   "metadata": {},
   "source": [
    "## Word2Vec"
   ]
  },
  {
   "cell_type": "code",
   "execution_count": 5,
   "metadata": {},
   "outputs": [],
   "source": [
    "corpus = df['title'].map(simple_preprocess)"
   ]
  },
  {
   "cell_type": "code",
   "execution_count": 6,
   "metadata": {},
   "outputs": [],
   "source": [
    "model = Word2Vec(corpus, size=100, window=2, min_count=1)"
   ]
  },
  {
   "cell_type": "code",
   "execution_count": 7,
   "metadata": {},
   "outputs": [
    {
     "data": {
      "text/plain": [
       "[('deep', 0.9517883658409119),\n",
       " ('inference', 0.8504943251609802),\n",
       " ('predictive', 0.8503087162971497),\n",
       " ('edge', 0.8234385251998901),\n",
       " ('captivate', 0.8231526613235474),\n",
       " ('genomic', 0.8150447607040405),\n",
       " ('bentonville', 0.8115875124931335),\n",
       " ('computer', 0.8061255216598511),\n",
       " ('researcher', 0.8039858341217041),\n",
       " ('natural', 0.8019294142723083)]"
      ]
     },
     "execution_count": 7,
     "metadata": {},
     "output_type": "execute_result"
    }
   ],
   "source": [
    "model.wv.most_similar('machine')"
   ]
  },
  {
   "cell_type": "markdown",
   "metadata": {},
   "source": [
    "## Title + phrases"
   ]
  },
  {
   "cell_type": "code",
   "execution_count": 8,
   "metadata": {},
   "outputs": [],
   "source": [
    "title_corpus = df['title'].map(simple_preprocess)\n",
    "\n",
    "title_bigram = Phraser(Phrases(title_corpus, min_count=1, threshold=1))"
   ]
  },
  {
   "cell_type": "code",
   "execution_count": 9,
   "metadata": {},
   "outputs": [
    {
     "data": {
      "text/plain": [
       "['deep_learning', 'applied', 'researcher', 'chicago']"
      ]
     },
     "execution_count": 9,
     "metadata": {},
     "output_type": "execute_result"
    }
   ],
   "source": [
    "title_bigram[simple_preprocess('Deep Learning Applied Researcher - Chicago')]"
   ]
  },
  {
   "cell_type": "code",
   "execution_count": 10,
   "metadata": {},
   "outputs": [],
   "source": [
    "title_corpus_phrase = [title_bigram[sent] for sent in title_corpus]"
   ]
  },
  {
   "cell_type": "code",
   "execution_count": 11,
   "metadata": {},
   "outputs": [],
   "source": [
    "model = Word2Vec(title_corpus_phrase, size=100, window=2, min_count=1)"
   ]
  },
  {
   "cell_type": "code",
   "execution_count": 12,
   "metadata": {},
   "outputs": [
    {
     "data": {
      "text/plain": [
       "[('in_upstate', 0.9350973963737488),\n",
       " ('corporation', 0.9333582520484924),\n",
       " ('southeast', 0.9330936670303345),\n",
       " ('analytics_bangkok', 0.9326107501983643),\n",
       " ('technical_specialist', 0.9324313998222351),\n",
       " ('us', 0.9322487711906433),\n",
       " ('business_process', 0.9321648478507996),\n",
       " ('cost', 0.9318822622299194),\n",
       " ('asset', 0.9315726161003113),\n",
       " ('mobile', 0.9315614700317383)]"
      ]
     },
     "execution_count": 12,
     "metadata": {},
     "output_type": "execute_result"
    }
   ],
   "source": [
    "model.wv.most_similar('machine')"
   ]
  },
  {
   "cell_type": "code",
   "execution_count": 13,
   "metadata": {},
   "outputs": [],
   "source": [
    "def prepare_corpus(corpus, bigram):\n",
    "    for sent in corpus:\n",
    "        yield bigram[sent] + sent"
   ]
  },
  {
   "cell_type": "code",
   "execution_count": 15,
   "metadata": {},
   "outputs": [],
   "source": [
    "ext_corpus = list(prepare_corpus(title_corpus, title_bigram))\n",
    "title_model = Word2Vec(ext_corpus, size=100, window=2, min_count=1)"
   ]
  },
  {
   "cell_type": "code",
   "execution_count": 16,
   "metadata": {},
   "outputs": [
    {
     "data": {
      "text/plain": [
       "[('deep', 0.9509055018424988),\n",
       " ('learning', 0.9464936852455139),\n",
       " ('autopilot', 0.933887779712677),\n",
       " ('machine_learning', 0.932407557964325),\n",
       " ('learning_product', 0.9258176684379578),\n",
       " ('computer_vision', 0.9215735197067261),\n",
       " ('deep_learning', 0.9208741784095764),\n",
       " ('big', 0.9196785092353821),\n",
       " ('pkpd', 0.9176803827285767),\n",
       " ('big_data', 0.9129390716552734)]"
      ]
     },
     "execution_count": 16,
     "metadata": {},
     "output_type": "execute_result"
    }
   ],
   "source": [
    "title_model.wv.most_similar('machine')"
   ]
  },
  {
   "cell_type": "markdown",
   "metadata": {},
   "source": [
    "## Description"
   ]
  },
  {
   "cell_type": "code",
   "execution_count": 17,
   "metadata": {},
   "outputs": [
    {
     "data": {
      "text/plain": [
       "\"['Do you have what it takes to be a trusted advisor to Fortune 500 HR and Training managers? Are you a highly organized, customer-driven individual who can uncover the stories behind the data? Can you help our clients unlock the benefits of having English language fluency as a strategic asset for their global success?', 'We are looking for a bright, proactive and motivated Customer Success Manager to join our US Enterprise Sales team, based in our Cambridge, MA office.', 'The EF Corporate Solutions customer success team is dedicated to making every customer and their employees successful with our language training programs. We work in close partnership with sales, marketing, and operations teams to develop and nurture our customer relationships and are responsible for the end-to-end post-sale customer experience from on-boarding to renewal.', 'As a Customer Success Manager for EF Corporate Solutions, no day will be the same for you! You will wear a variety of hats in your relationship with our US-based customers: consultant, project manager, change manager, analyst, internal communication specialist and many more.', 'You will be measured against clear KPIs, such as client satisfaction (Net Promoter Score) and renewal rates.', 'Key Responsibilities Will Include', 'Leading all post-onboarding activity through strong relationship-building, product training, program planning and execution', 'Developing strong business relationships with senior stakeholders', 'Proactively partnering with customers on an on-going basis to drive optimal results - understanding and explaining performance data, delivering product training, and developing change management programs to drive product adoption', 'Regularly monitoring learning KPIs and reporting to clients on success of learning programs to drive results, achieving renewals and assisting Sales in growing the accounts', 'Foreseeing and reacting to problems rapidly with creative solutions', 'Contributing to best practice for all CS teams to ensure successful design and delivery of language training', 'Basic Qualifications', 'University graduate, preferably with a Business degree', '2+ years of customer facing experience in customer success, account management, consulting or sales', 'To Be Successful In The Role, You Will Be', 'An excellent communicator, comfortable with delivering presentations and able to build authentic business relationships with senior customers', 'Excellent project management, time management and organizational skills', 'Able to interpret/analyze data, draw conclusions and construct a clear narrative', 'Able to evaluate, prioritize and effectively manage requests from internal and external stakeholders', 'A commercially minded individual with strong business acumen', 'A storyteller who can influence and persuade', 'Passionate about client success and buyer satisfaction', 'A logical and analytical mind who enjoys working with CRM systems, MS Excel, data and reporting tools', 'Fluent in English, bi-lingual in Spanish a plus', 'To Thrive At EF, You Will Be', 'Proactive, with a strong entrepreneurial spirit and ideas to put forward', 'Able to perform in a fast-paced and pressured environment', 'Decisive and able to take calculated risks when necessary', 'Passionate about travel, languages and cultural exchange', 'About EF Corporate Solutions', 'What do a machine operative in a Mitsubishi car plant, an AI technician in Silicon Valley, a Nasa astronaut, a CEO of a FTSE 100 company and the Prime Minister of Sweden have in common? They all need English to do their jobs well, and to be successful.', 'Step in ', 'EF Corporate Solutions', ', the B2B arm of EF Education First. We work with the leading companies of the world (over 70% of the Fortune 500) across multiple industries, as well as governments and Ministries of Education. We deliver strategic language and executive training to individuals of all levels, from CEOs to frontline machine operatives to improve their level and confidence in English, both spoken and written through a combination of online and face-to-face learning.']\""
      ]
     },
     "execution_count": 17,
     "metadata": {},
     "output_type": "execute_result"
    }
   ],
   "source": [
    "df.sample()['description'].values[0]"
   ]
  },
  {
   "cell_type": "code",
   "execution_count": 18,
   "metadata": {},
   "outputs": [],
   "source": [
    "description_corpus = df['description'].map(simple_preprocess)\n",
    "\n",
    "description_bigram = Phraser(Phrases(description_corpus, min_count=1, threshold=1))"
   ]
  },
  {
   "cell_type": "code",
   "execution_count": 19,
   "metadata": {},
   "outputs": [],
   "source": [
    "ext_descr_corpus = list(prepare_corpus(description_corpus, description_bigram))\n",
    "descr_model = Word2Vec(ext_descr_corpus, size=100, window=2, min_count=1)"
   ]
  },
  {
   "cell_type": "code",
   "execution_count": 20,
   "metadata": {},
   "outputs": [
    {
     "data": {
      "text/plain": [
       "[('naturallanguage', 0.6005061864852905),\n",
       " ('ml', 0.5972025990486145),\n",
       " ('nlp_machine', 0.58416748046875),\n",
       " ('cnc', 0.5832350254058838),\n",
       " ('algorithms', 0.5794932842254639),\n",
       " ('computer', 0.5742949843406677),\n",
       " ('machines', 0.5570603609085083),\n",
       " ('reinforcement', 0.5394213199615479),\n",
       " ('and_implanting', 0.5347534418106079),\n",
       " ('using_machine', 0.5325719714164734)]"
      ]
     },
     "execution_count": 20,
     "metadata": {},
     "output_type": "execute_result"
    }
   ],
   "source": [
    "descr_model.wv.most_similar('machine')"
   ]
  },
  {
   "cell_type": "code",
   "execution_count": 21,
   "metadata": {},
   "outputs": [
    {
     "data": {
      "text/plain": [
       "[('deep', 0.9509055018424988),\n",
       " ('learning', 0.9464936852455139),\n",
       " ('autopilot', 0.933887779712677),\n",
       " ('machine_learning', 0.932407557964325),\n",
       " ('learning_product', 0.9258176684379578),\n",
       " ('computer_vision', 0.9215735197067261),\n",
       " ('deep_learning', 0.9208741784095764),\n",
       " ('big', 0.9196785092353821),\n",
       " ('pkpd', 0.9176803827285767),\n",
       " ('big_data', 0.9129390716552734)]"
      ]
     },
     "execution_count": 21,
     "metadata": {},
     "output_type": "execute_result"
    }
   ],
   "source": [
    "title_model.wv.most_similar('machine')"
   ]
  },
  {
   "cell_type": "code",
   "execution_count": 23,
   "metadata": {},
   "outputs": [
    {
     "name": "stdout",
     "output_type": "stream",
     "text": [
      "United in Performance. Inspired by Innovation.\n",
      "\n",
      "Performance unites us, innovation inspires us, and commitment drives us to keep moving forward. Count on Epiroc to deliver customer-oriented solutions needed to succeed today and the technology to lead tomorrow. To do this, we believe in diverse teams that work together across borders to develop, produce, market and service the most innovative products available. Grow your career at Epiroc!\n",
      "\n",
      "At Epiroc USA LLC, our Mining and Rock Excavation Service Division provides a broad range of services with the aim of maximizing customers’ productivity. We focus on spare parts supply, professional service, support solutions and training. This open Field Service Technician position will be based in Roanoke, VA.\n",
      "\n",
      "Field Service Technicians provide timely service support for technical problems, monitoring, testing, and demonstrations that result in minimizing downtime, reducing costs or promoting our product capabilities in the case of a test or demo. This individual will be responsible for troubleshooting, repairing and installing parts as needed to maintain the equipment. The work environment includes being regularly exposed to work near moving mechanical parts, fumes or airborne particles and outdoor weather conditions. Noise protection is required in this role. Field Service Technicians are occasionally exposed to high, precarious places, toxic or caustic chemicals and the risk of electrical shock. This position is considered Safety Sensitive.\n",
      "\n",
      "Responsibilities\n",
      "\n",
      "Providing technical support in the form of troubleshooting either by phone or on site\n",
      "\n",
      "Supplying parts information in the form of suggested stocking guides\n",
      "\n",
      "Providing warranty support; evaluating and validating claims, discussing issues with Product Company, and submitting service reports to support claims\n",
      "\n",
      "Leading training for distributors and customers on all relevant features and benefits of using our products, including the creation of customized courses per the customer’s needs\n",
      "\n",
      "Primary training contact on equipment operation and proper use of consumables, such as rock drilling tools, ground reinforcement products, installation, and grinding equipment\n",
      "\n",
      "Set-up and monitoring of new or improved components testing\n",
      "\n",
      "Tracking associated costs, or data from tests to ensure completion\n",
      "\n",
      "Customizing solutions to address issues specific to customers\n",
      "\n",
      "Communicating service and other relevant activities to Customer and Service Manager through daily service reports or relevant forms, e-mail and telephone communication\n",
      "\n",
      "Maintaining courteous and professional demeanor and communication with customers and internal staff at all times\n",
      "\n",
      "Requirements\n",
      "\n",
      "The successful candidate should have a minimum of a Certificate of Completion from a Technical or Trade School, three years of related experience and/or training, or an equivalent combination of education and experience\n",
      "\n",
      "Maintain required US Department of Labor, Mine, Safety & Health Administration Training Certificates, or agree to complete the training program(s) needed to acquire the Training Certificates\n",
      "\n",
      "Maintain a valid driver’s license; a good driving record is required\n",
      "\n",
      "If required to operate a commercial vehicle weighing more than 26,001 pounds, you must be able to pass all requirements necessary to obtain a Commercial Driver’s License (CDL) for Department of Transportation (DOT) purposes\n",
      "\n",
      "Previous work experience should have demonstrated a strong mechanical aptitude and good work ethic\n",
      "\n",
      "Successful candidates must be able to sit for extended periods if needed, use hands to feel, reach with hands and arms and talk or hear\n",
      "\n",
      "Travel is required in this position\n",
      "\n",
      "Company Presentation\n",
      "\n",
      "Epiroc is a leading productivity partner for the mining, infrastructure and natural resources industries. With cutting edge technology, Epiroc develops and produces innovative drill rigs, rock excavation and construction equipment, and provides world-class service and consumables. The company was founded in Stockholm, Sweden, and has passionate people supporting and collaborating with customers in more than 150 countries. Epiroc had revenue in 2017 of $ 3.7 billion USD and has more than 13,000 employees. Principal product development and manufacturing units of Epiroc are located in Sweden, the United States, Canada, China and India.\n",
      "\n",
      "Being the best, is a challenge that we love to live up to. By keeping an open mind and listening to our employees and customers, we continuously set new industry standards and improve the way we work.\n",
      "\n",
      "Diversity is key to grow fresh and innovative ideas and solutions for our customers. In the 150 countries where you can find us, we encourage our employees to take ownership of their own development and careers with the support from their leaders. This way our employees can grow in the business, wherever they are at their careers, from entry level to senior leadership. We are committed to give you every opportunity to succeed in a culture of innovation, diversity and collaboration, combined with a caring atmosphere.\n",
      "\n",
      "Epiroc USA LLC is an equal opportunity/affirmative action employer. All qualified applicants will receive consideration for employment without regard to sex, gender identity, sexual orientation, race, color, religion, national origin, disability, protected Veteran status, age, or any other characteristic protected by law.\n",
      "\n",
      "Learn more at www.epirocgroup.com.\n",
      "\n"
     ]
    }
   ],
   "source": [
    "for line in df.sample()['description'].map(literal_eval).values[0]:\n",
    "    print(line)\n",
    "    print(\"\")"
   ]
  },
  {
   "cell_type": "code",
   "execution_count": null,
   "metadata": {},
   "outputs": [],
   "source": []
  }
 ],
 "metadata": {
  "kernelspec": {
   "display_name": "Python 3",
   "language": "python",
   "name": "python3"
  },
  "language_info": {
   "codemirror_mode": {
    "name": "ipython",
    "version": 3
   },
   "file_extension": ".py",
   "mimetype": "text/x-python",
   "name": "python",
   "nbconvert_exporter": "python",
   "pygments_lexer": "ipython3",
   "version": "3.7.2"
  }
 },
 "nbformat": 4,
 "nbformat_minor": 2
}
